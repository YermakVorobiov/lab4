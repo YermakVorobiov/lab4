{
 "cells": [
  {
   "cell_type": "markdown",
   "id": "8a8d347e",
   "metadata": {},
   "source": [
    "Вправа 1. Вводиться число n. Вивести масив разміра nхn, в якому по\n",
    "діагоналі йдуть числа від 1 до n, а інші числа рівні 0"
   ]
  },
  {
   "cell_type": "code",
   "execution_count": 48,
   "id": "71592aea",
   "metadata": {},
   "outputs": [
    {
     "name": "stdout",
     "output_type": "stream",
     "text": [
      "Enter your number10\n",
      "[1, 0, 0, 0, 0, 0, 0, 0, 0, 0]\n",
      "[0, 2, 0, 0, 0, 0, 0, 0, 0, 0]\n",
      "[0, 0, 3, 0, 0, 0, 0, 0, 0, 0]\n",
      "[0, 0, 0, 4, 0, 0, 0, 0, 0, 0]\n",
      "[0, 0, 0, 0, 5, 0, 0, 0, 0, 0]\n",
      "[0, 0, 0, 0, 0, 6, 0, 0, 0, 0]\n",
      "[0, 0, 0, 0, 0, 0, 7, 0, 0, 0]\n",
      "[0, 0, 0, 0, 0, 0, 0, 8, 0, 0]\n",
      "[0, 0, 0, 0, 0, 0, 0, 0, 9, 0]\n",
      "[0, 0, 0, 0, 0, 0, 0, 0, 0, 10]\n",
      "It took 0.00011030002497136593 seconds\n"
     ]
    }
   ],
   "source": [
    "from timeit import default_timer as timer\n",
    "\n",
    "\n",
    "def task_1():\n",
    "    n = int(input(\"Enter your number\"))\n",
    "    start = timer()\n",
    "    base_list = []\n",
    "    for i in range(1, n+1):\n",
    "        row = []\n",
    "        for a in range(1, n+1):\n",
    "            if a != i:\n",
    "                row.append(0)\n",
    "            else:\n",
    "                row.append(i)\n",
    "        base_list.append(row)\n",
    "    for r in base_list:\n",
    "        print(r, end=\"\")\n",
    "        print()\n",
    "    end = timer()\n",
    "    print(f\"It took {end - start} seconds\")\n",
    "\n",
    "\n",
    "task_1()\n",
    "\n"
   ]
  },
  {
   "cell_type": "code",
   "execution_count": 49,
   "id": "cd5ad3ff",
   "metadata": {},
   "outputs": [
    {
     "name": "stdout",
     "output_type": "stream",
     "text": [
      "Enter your number10\n",
      "[[ 1  0  0  0  0  0  0  0  0  0]\n",
      " [ 0  2  0  0  0  0  0  0  0  0]\n",
      " [ 0  0  3  0  0  0  0  0  0  0]\n",
      " [ 0  0  0  4  0  0  0  0  0  0]\n",
      " [ 0  0  0  0  5  0  0  0  0  0]\n",
      " [ 0  0  0  0  0  6  0  0  0  0]\n",
      " [ 0  0  0  0  0  0  7  0  0  0]\n",
      " [ 0  0  0  0  0  0  0  8  0  0]\n",
      " [ 0  0  0  0  0  0  0  0  9  0]\n",
      " [ 0  0  0  0  0  0  0  0  0 10]]\n",
      "It took 0.0 seconds\n"
     ]
    }
   ],
   "source": [
    "import time\n",
    "import numpy as np\n",
    "\n",
    "\n",
    "def task_1():\n",
    "    n = int(input(\"Enter your number\"))\n",
    "    start = time.time()\n",
    "    base_list = np.zeros([n, n], dtype=int)\n",
    "    for i in range(0, n):\n",
    "        base_list[i][i] = i+1\n",
    "    print(base_list)\n",
    "    end = time.time()\n",
    "    print(f\"It took {end - start} seconds\")\n",
    "\n",
    "\n",
    "task_1()\n"
   ]
  },
  {
   "cell_type": "markdown",
   "id": "7bed822d",
   "metadata": {},
   "source": [
    "Numpy впорався швидше."
   ]
  },
  {
   "cell_type": "markdown",
   "id": "79547b04",
   "metadata": {},
   "source": [
    "Вправа 3. Вводяться 4 числа n, m, r, c. Вивести масив розміру n на m, в\n",
    "якому в кожному r -му рядку і в кожному c-му стовпчику стоять 0, а інші\n",
    "елементи дорівнюють 1."
   ]
  },
  {
   "cell_type": "code",
   "execution_count": 51,
   "id": "cfa25be3",
   "metadata": {},
   "outputs": [
    {
     "name": "stdout",
     "output_type": "stream",
     "text": [
      "Enter n: \n",
      "4\n",
      "Enter m: \n",
      "10\n",
      "Enter r: \n",
      "2\n",
      "Enter c: \n",
      "3\n",
      "[0, 0, 0, 0, 0, 0, 0, 0, 0, 0]\n",
      "[0, 1, 1, 0, 1, 1, 0, 1, 1, 0]\n",
      "[0, 0, 0, 0, 0, 0, 0, 0, 0, 0]\n",
      "[0, 1, 1, 0, 1, 1, 0, 1, 1, 0]\n",
      "It took 0.00033249997068196535 seconds\n"
     ]
    }
   ],
   "source": [
    "from timeit import default_timer as timer\n",
    "\n",
    "\n",
    "def task_3():\n",
    "    n = int(input(\"Enter n: \\n\"))\n",
    "    m = int(input(\"Enter m: \\n\"))\n",
    "    r = int(input(\"Enter r: \\n\"))\n",
    "    c = int(input(\"Enter c: \\n\"))\n",
    "    start = timer()\n",
    "    base_array = []\n",
    "    zero_string = [0]*m\n",
    "    ones_string = [1]*m\n",
    "    for i in range(0, m):\n",
    "        if i % c == 0:\n",
    "            ones_string[i] = 0\n",
    "    for i in range(0, n):\n",
    "        if i % r == 0:\n",
    "            base_array.append(zero_string)\n",
    "        else:\n",
    "            base_array.append(ones_string)\n",
    "\n",
    "    for r in base_array:\n",
    "        print(r, end=\"\")\n",
    "        print()\n",
    "    end = timer()\n",
    "    print(f\"It took {end - start} seconds\")\n",
    "\n",
    "\n",
    "task_3()\n"
   ]
  },
  {
   "cell_type": "code",
   "execution_count": 52,
   "id": "82307f1b",
   "metadata": {},
   "outputs": [
    {
     "name": "stdout",
     "output_type": "stream",
     "text": [
      "Enter n: \n",
      "4\n",
      "Enter m: \n",
      "10\n",
      "Enter r: \n",
      "2\n",
      "Enter c: \n",
      "3\n",
      "[[0 0 0 0 0 0 0 0 0 0]\n",
      " [0 1 1 0 1 1 0 1 1 0]\n",
      " [0 0 0 0 0 0 0 0 0 0]\n",
      " [0 1 1 0 1 1 0 1 1 0]]\n",
      "It took 0.0 seconds\n"
     ]
    }
   ],
   "source": [
    "import time\n",
    "import numpy as np\n",
    "\n",
    "\n",
    "def task_3():\n",
    "    n = int(input(\"Enter n: \\n\"))\n",
    "    m = int(input(\"Enter m: \\n\"))\n",
    "    r = int(input(\"Enter r: \\n\"))\n",
    "    c = int(input(\"Enter c: \\n\"))\n",
    "    start = time.time()\n",
    "    base_array = np.zeros([n, m], dtype=int)\n",
    "    for i in range(1, n, r):\n",
    "        for a in range(1, m):\n",
    "            if a % c != 0:\n",
    "                base_array[i][a] = 1\n",
    "    print(base_array)\n",
    "    end = time.time()\n",
    "    print(f\"It took {end - start} seconds\")\n",
    "\n",
    "\n",
    "task_3()\n"
   ]
  },
  {
   "cell_type": "markdown",
   "id": "fcb137c4",
   "metadata": {},
   "source": [
    "Numpy знов переміг."
   ]
  },
  {
   "cell_type": "markdown",
   "id": "35de231a",
   "metadata": {},
   "source": [
    "Вправа 6. З клавіатури вводиться масив. Замінити всі ненульові елементи на -\n",
    "1."
   ]
  },
  {
   "cell_type": "code",
   "execution_count": 53,
   "id": "9cd60e8e",
   "metadata": {},
   "outputs": [
    {
     "name": "stdout",
     "output_type": "stream",
     "text": [
      "Enter the numbers: 3 -12 0 -123 0 0 3213 0 12312312 0 -2 0 0 0 232 -123123 0\n",
      "[-1, -1, 0, -1, 0, 0, -1, 0, -1, 0, -1, 0, 0, 0, -1, -1, 0]\n",
      "It took 0.0 seconds\n"
     ]
    }
   ],
   "source": [
    "import time\n",
    "\n",
    "\n",
    "def task_6():\n",
    "    base_list = [int(item) for item in input(\"Enter the numbers: \").split()]\n",
    "    start = time.time()\n",
    "    for i in range(0, len(base_list)):\n",
    "        if base_list[i] != 0:\n",
    "            base_list[i] = -1\n",
    "    print(base_list)\n",
    "    end = time.time()\n",
    "    print(f\"It took {end - start} seconds\")\n",
    "\n",
    "\n",
    "task_6()"
   ]
  },
  {
   "cell_type": "code",
   "execution_count": 54,
   "id": "06ed5e99",
   "metadata": {},
   "outputs": [
    {
     "name": "stdout",
     "output_type": "stream",
     "text": [
      "Enter the numbers: 3 -12 0 -123 0 0 3213 0 12312312 0 -2 0 0 0 232 -123123 0\n",
      "[-1 -1  0 -1  0  0 -1  0 -1  0 -1  0  0  0 -1 -1  0]\n",
      "It took 0.0 seconds\n"
     ]
    }
   ],
   "source": [
    "import time\n",
    "import numpy as np\n",
    "\n",
    "\n",
    "def task_6():\n",
    "    base_list = np.array([int(item) for item in input(\"Enter the numbers: \").split()])\n",
    "    start = time.time()\n",
    "    base_list[base_list != 0] = -1\n",
    "    print(base_list)\n",
    "    end = time.time()\n",
    "    print(f\"It took {end - start} seconds\")\n",
    "\n",
    "\n",
    "task_6()\n"
   ]
  },
  {
   "cell_type": "markdown",
   "id": "7703beed",
   "metadata": {},
   "source": [
    "Різницю не видно через занадто малий час виконання але видно що алгоритм numpy менш покладається на цикли, а значить більш швидкий та оптимізований.\n"
   ]
  },
  {
   "cell_type": "markdown",
   "id": "9ff064f9",
   "metadata": {},
   "source": [
    "Вправа 8. З клавіатури вводиться масив. Підрахувати в ньому кількість\n",
    "нульових та ненульвих елементів."
   ]
  },
  {
   "cell_type": "code",
   "execution_count": 55,
   "id": "439a52ff",
   "metadata": {},
   "outputs": [
    {
     "name": "stdout",
     "output_type": "stream",
     "text": [
      "Enter the numbers: 0 0 0 3 3 3 4 0 3 0 0 0 3 3 3 4 0 3 0 0 0 3 3 3 4 0 3 0 0 0 3 3 3 4 0 3\n",
      "Zeros: 16\n",
      "Non-zeros: 20\n",
      "It took 0.0 seconds\n"
     ]
    }
   ],
   "source": [
    "import time\n",
    "\n",
    "\n",
    "def task_8():\n",
    "    base_list = [int(item) for item in input(\"Enter the numbers: \").split()]\n",
    "    start = time.time()\n",
    "    zero_count = 0\n",
    "    nonzero_count = 0\n",
    "    for i in base_list:\n",
    "        if i == 0:\n",
    "            zero_count += 1\n",
    "        else:\n",
    "            nonzero_count += 1\n",
    "    print(f\"Zeros: {zero_count}\")\n",
    "    print(f\"Non-zeros: {nonzero_count}\")\n",
    "    end = time.time()\n",
    "    print(f\"It took {end - start} seconds\")\n",
    "\n",
    "\n",
    "task_8()\n"
   ]
  },
  {
   "cell_type": "code",
   "execution_count": 57,
   "id": "f194128c",
   "metadata": {},
   "outputs": [
    {
     "name": "stdout",
     "output_type": "stream",
     "text": [
      "Enter the numbers: 0 0 0 3 3 3 4 0 3 0 0 0 3 3 3 4 0 3 0 0 0 3 3 3 4 0 3 0 0 0 3 3 3 4 0 3\n",
      "Zeros: 16\n",
      "Non-zeros: 20\n",
      "It took 0.0 seconds\n"
     ]
    }
   ],
   "source": [
    "import time\n",
    "import numpy as np\n",
    "\n",
    "\n",
    "def task_8():\n",
    "    base_list = np.array([int(item) for item in input(\"Enter the numbers: \").split()])\n",
    "    start = time.time()\n",
    "\n",
    "    print(f\"Zeros: {len(base_list) - np.count_nonzero(base_list)}\")\n",
    "    print(f\"Non-zeros: {np.count_nonzero(base_list)}\")\n",
    "    end = time.time()\n",
    "    print(f\"It took {end - start} seconds\")\n",
    "\n",
    "\n",
    "task_8()\n"
   ]
  },
  {
   "cell_type": "markdown",
   "id": "f1f9ada9",
   "metadata": {},
   "source": [
    "Знов, занадто малий час виконання щоб таймер щось засік і не округляв. Але реалізація через numpy все ще зручніша та елегантніша."
   ]
  },
  {
   "cell_type": "markdown",
   "id": "e2145958",
   "metadata": {},
   "source": [
    "Вправа 13. Розмістити на полі 8х8 нулі та одиниці в шахматному порядку,\n",
    "використовуючи функцію повторення (*)."
   ]
  },
  {
   "cell_type": "code",
   "execution_count": 6,
   "id": "f33f5b4e",
   "metadata": {},
   "outputs": [
    {
     "name": "stdout",
     "output_type": "stream",
     "text": [
      "[0, 1, 0, 1, 0, 1, 0, 1]\n",
      "[1, 0, 1, 0, 1, 0, 1, 0]\n",
      "[0, 1, 0, 1, 0, 1, 0, 1]\n",
      "[1, 0, 1, 0, 1, 0, 1, 0]\n",
      "[0, 1, 0, 1, 0, 1, 0, 1]\n",
      "[1, 0, 1, 0, 1, 0, 1, 0]\n",
      "[0, 1, 0, 1, 0, 1, 0, 1]\n",
      "[1, 0, 1, 0, 1, 0, 1, 0]\n",
      "It took 0.0010001659393310547 seconds\n"
     ]
    }
   ],
   "source": [
    "import time\n",
    "\n",
    "\n",
    "def task_13():\n",
    "    start = time.time()\n",
    "    odd_string = [0, 1] * 4\n",
    "    even_string = [1, 0] * 4\n",
    "    base_list = [odd_string, even_string] * 4\n",
    "    for r in base_list:\n",
    "        print(r, end=\"\")\n",
    "        print()\n",
    "    end = time.time()\n",
    "    print(f\"It took {end - start} seconds\")\n",
    "\n",
    "\n",
    "task_13()\n"
   ]
  },
  {
   "cell_type": "code",
   "execution_count": 11,
   "id": "1b7dc0f0",
   "metadata": {},
   "outputs": [
    {
     "name": "stdout",
     "output_type": "stream",
     "text": [
      "[[0 1 0 1 0 1 0 1]\n",
      " [1 0 1 0 1 0 1 0]\n",
      " [0 1 0 1 0 1 0 1]\n",
      " [1 0 1 0 1 0 1 0]\n",
      " [0 1 0 1 0 1 0 1]\n",
      " [1 0 1 0 1 0 1 0]\n",
      " [0 1 0 1 0 1 0 1]\n",
      " [1 0 1 0 1 0 1 0]]\n",
      "It took 0.0010004043579101562 seconds\n"
     ]
    }
   ],
   "source": [
    "import time\n",
    "import numpy as np\n",
    "\n",
    "\n",
    "def task_13():\n",
    "    start = time.time()\n",
    "    base_row = np.zeros(8, dtype=int)\n",
    "    base_list = np.array([base_row] * 8)\n",
    "    base_list[1::2, ::2] = 1\n",
    "    base_list[::2, 1::2] = 1\n",
    "    print(base_list)\n",
    "    end = time.time()\n",
    "    print(f\"It took {end - start} seconds\")\n",
    "\n",
    "\n",
    "task_13()\n"
   ]
  },
  {
   "cell_type": "markdown",
   "id": "e3649704",
   "metadata": {},
   "source": [
    "Майже однаковий час виконання. Декілька тестувань показали що одне може бути швидше за інше і це випадково, але завдання не дуже зручно для numpy(обов'язково використати *)."
   ]
  },
  {
   "cell_type": "markdown",
   "id": "b6726878",
   "metadata": {},
   "source": [
    "Вправа 15. Заповнити парні стовбчики матриці розміром n х n одиницями, а\n",
    "непарні – нулями."
   ]
  },
  {
   "cell_type": "code",
   "execution_count": 8,
   "id": "b488a96e",
   "metadata": {},
   "outputs": [
    {
     "name": "stdout",
     "output_type": "stream",
     "text": [
      "Enter n: \n",
      "10\n",
      "[0, 1, 0, 1, 0, 1, 0, 1, 0, 1]\n",
      "[0, 1, 0, 1, 0, 1, 0, 1, 0, 1]\n",
      "[0, 1, 0, 1, 0, 1, 0, 1, 0, 1]\n",
      "[0, 1, 0, 1, 0, 1, 0, 1, 0, 1]\n",
      "[0, 1, 0, 1, 0, 1, 0, 1, 0, 1]\n",
      "[0, 1, 0, 1, 0, 1, 0, 1, 0, 1]\n",
      "[0, 1, 0, 1, 0, 1, 0, 1, 0, 1]\n",
      "[0, 1, 0, 1, 0, 1, 0, 1, 0, 1]\n",
      "[0, 1, 0, 1, 0, 1, 0, 1, 0, 1]\n",
      "[0, 1, 0, 1, 0, 1, 0, 1, 0, 1]\n",
      "It took 0.0010004043579101562 seconds\n"
     ]
    }
   ],
   "source": [
    "import time\n",
    "\n",
    "\n",
    "def task_15():\n",
    "    n = int(input(\"Enter n: \\n\"))\n",
    "    start = time.time()\n",
    "    row = [0] * n\n",
    "    for i in range(0, n):\n",
    "        if i % 2 == 1:\n",
    "            row[i] = 1\n",
    "    base_list = [row] * n\n",
    "    for r in base_list:\n",
    "        print(r, end=\"\")\n",
    "        print()\n",
    "    end = time.time()\n",
    "    print(f\"It took {end - start} seconds\")\n",
    "\n",
    "\n",
    "task_15()\n"
   ]
  },
  {
   "cell_type": "code",
   "execution_count": 10,
   "id": "089dbb2b",
   "metadata": {},
   "outputs": [
    {
     "name": "stdout",
     "output_type": "stream",
     "text": [
      "Enter n: \n",
      "10\n",
      "[[0 1 0 1 0 1 0 1 0 1]\n",
      " [0 1 0 1 0 1 0 1 0 1]\n",
      " [0 1 0 1 0 1 0 1 0 1]\n",
      " [0 1 0 1 0 1 0 1 0 1]\n",
      " [0 1 0 1 0 1 0 1 0 1]\n",
      " [0 1 0 1 0 1 0 1 0 1]\n",
      " [0 1 0 1 0 1 0 1 0 1]\n",
      " [0 1 0 1 0 1 0 1 0 1]\n",
      " [0 1 0 1 0 1 0 1 0 1]\n",
      " [0 1 0 1 0 1 0 1 0 1]]\n",
      "It took 0.0010001659393310547 seconds\n"
     ]
    }
   ],
   "source": [
    "import time\n",
    "import numpy as np\n",
    "\n",
    "\n",
    "def task_15():\n",
    "    n = int(input(\"Enter n: \\n\"))\n",
    "    start = time.time()\n",
    "    base_list = np.zeros((n, n), dtype=int)\n",
    "    for i in range(0, n):\n",
    "        for a in range(0, n):\n",
    "            if a % 2 == 1:\n",
    "                base_list[i][a] = 1\n",
    "    print(base_list)\n",
    "    end = time.time()\n",
    "    print(f\"It took {end - start} seconds\")\n",
    "\n",
    "\n",
    "task_15()\n"
   ]
  },
  {
   "cell_type": "markdown",
   "id": "b77055d3",
   "metadata": {},
   "source": [
    "Незначна різниця у швидкості, але numpy у середньому працює швидше. "
   ]
  },
  {
   "cell_type": "markdown",
   "id": "e4b1b3fc",
   "metadata": {},
   "source": [
    "Вправа 16. Заповнити вектор значеннями від 0 до n. Всі значення, що більші\n",
    "за n/4 та менші за 3n/4 замінити нулями"
   ]
  },
  {
   "cell_type": "code",
   "execution_count": 19,
   "id": "2ea832d0",
   "metadata": {},
   "outputs": [
    {
     "name": "stdout",
     "output_type": "stream",
     "text": [
      "Enter n: \n",
      "30\n",
      "[0, 1, 2, 3, 4, 5, 6, 7, 0, 0, 0, 0, 0, 0, 0, 0, 0, 0, 0, 0, 0, 0, 0, 23, 24, 25, 26, 27, 28, 29, 30]\n",
      "It took 0.0 seconds\n"
     ]
    }
   ],
   "source": [
    "import time\n",
    "\n",
    "\n",
    "def task_16():\n",
    "    n = int(input(\"Enter n: \\n\"))\n",
    "    start = time.time()\n",
    "    base_vector = [*range(0, n+1)]\n",
    "    for i in range(0, n+1):\n",
    "        if (base_vector[i] > n/4) and (base_vector[i] < 3*n/4):\n",
    "            base_vector[i] = 0\n",
    "    print(base_vector)\n",
    "    end = time.time()\n",
    "    print(f\"It took {end - start} seconds\")\n",
    "\n",
    "\n",
    "task_16()\n"
   ]
  },
  {
   "cell_type": "code",
   "execution_count": 18,
   "id": "b9b08735",
   "metadata": {},
   "outputs": [
    {
     "name": "stdout",
     "output_type": "stream",
     "text": [
      "Enter n: \n",
      "30\n",
      "[ 0  1  2  3  4  5  6  7  0  0  0  0  0  0  0  0  0  0  0  0  0  0  0 23\n",
      " 24 25 26 27 28 29 30]\n",
      "It took 0.0009996891021728516 seconds\n"
     ]
    }
   ],
   "source": [
    "import time\n",
    "import numpy as np\n",
    "\n",
    "\n",
    "def task_16():\n",
    "    n = int(input(\"Enter n: \\n\"))\n",
    "    start = time.time()\n",
    "    base_vector = np.arange(0, n+1)\n",
    "    for i in range(0, n+1):\n",
    "        if (base_vector[i] > n / 4) and (base_vector[i] < 3 * n / 4):\n",
    "            base_vector[i] = 0\n",
    "    print(base_vector)\n",
    "    end = time.time()\n",
    "    print(f\"It took {end - start} seconds\")\n",
    "\n",
    "\n",
    "task_16()\n"
   ]
  },
  {
   "cell_type": "markdown",
   "id": "bed5b4dc",
   "metadata": {},
   "source": [
    "Як не дивно, numpy впорався з даним завданням гірше, але це може бути проблема через схожу реалізацію."
   ]
  },
  {
   "cell_type": "markdown",
   "id": "52661557",
   "metadata": {},
   "source": [
    "Вправа 18. Згенерувати вектор з n випадкових чисел в діапазоні від 0 до 99.\n",
    "Визначити кількість унікальних чисел в послідовності."
   ]
  },
  {
   "cell_type": "code",
   "execution_count": 24,
   "id": "fbc4f87c",
   "metadata": {},
   "outputs": [
    {
     "name": "stdout",
     "output_type": "stream",
     "text": [
      "Enter n: \n",
      "30\n",
      "В послідовності [52, 83, 70, 87, 73, 79, 23, 17, 87, 83, 37, 72, 48, 8, 55, 72, 24, 78, 4, 76, 20, 25, 65, 99, 41, 75, 19, 6, 12, 40] - 27 оригінальних чисел\n",
      "It took 0.0 seconds\n"
     ]
    }
   ],
   "source": [
    "import time\n",
    "import random\n",
    "\n",
    "\n",
    "def task_18():\n",
    "    n = int(input(\"Enter n: \\n\"))\n",
    "    start = time.time()\n",
    "    base_vector = []\n",
    "    originals = []\n",
    "    for i in range(0, n):\n",
    "        base_vector.append(random.randint(0, 99))\n",
    "        if base_vector[i] not in originals:\n",
    "            originals.append(base_vector[i])\n",
    "    print(f\"В послідовності {base_vector} - {len(originals)} оригінальних чисел\")\n",
    "    end = time.time()\n",
    "    print(f\"It took {end - start} seconds\")\n",
    "\n",
    "\n",
    "task_18()\n"
   ]
  },
  {
   "cell_type": "code",
   "execution_count": 25,
   "id": "b0a60293",
   "metadata": {},
   "outputs": [
    {
     "name": "stdout",
     "output_type": "stream",
     "text": [
      "Enter n: \n",
      "30\n",
      "В послідовності [71 47  4 81 67 22 69 61 57 45 47 94 65 86 15 74 29 19 93 97 61 15 39 10\n",
      "  7 71 49 41 75 53] - 26 оригінальних чисел\n",
      "It took 0.0 seconds\n"
     ]
    }
   ],
   "source": [
    "import time\n",
    "import numpy as np\n",
    "\n",
    "\n",
    "def task_18():\n",
    "    n = int(input(\"Enter n: \\n\"))\n",
    "    start = time.time()\n",
    "    base_vector = np.random.randint(99, size=n)\n",
    "    print(f\"В послідовності {base_vector} - {len(np.unique(base_vector))} оригінальних чисел\")\n",
    "    end = time.time()\n",
    "    print(f\"It took {end - start} seconds\")\n",
    "\n",
    "\n",
    "task_18()\n"
   ]
  },
  {
   "cell_type": "markdown",
   "id": "aa7b65e7",
   "metadata": {},
   "source": [
    "Занадто малі значення щоб зрозуміти різницю, але реалізація через numpy коротша та елегантніша."
   ]
  },
  {
   "cell_type": "markdown",
   "id": "cd24a117",
   "metadata": {},
   "source": [
    "Вправа 20. Згенерувати вектор із n випадкових елементів, що лежать в\n",
    "інтервалі (0,1). Замінити максимальний елемент на 0."
   ]
  },
  {
   "cell_type": "code",
   "execution_count": 37,
   "id": "96265c96",
   "metadata": {},
   "outputs": [
    {
     "name": "stdout",
     "output_type": "stream",
     "text": [
      "Enter n: \n",
      "5\n",
      "Початковий вектор [0.26622339005336204, 0.4324155535259988, 0.12468857571305847, 0.7728335892070438, 0.8856347403515291] \n",
      "Змінений вектор [0.26622339005336204, 0.4324155535259988, 0.12468857571305847, 0.7728335892070438, 0]\n",
      "It took 0.0 seconds\n"
     ]
    }
   ],
   "source": [
    "import time\n",
    "import random\n",
    "\n",
    "\n",
    "def task_20():\n",
    "    n = int(input(\"Enter n: \\n\"))\n",
    "    start = time.time()\n",
    "    base_vector = []\n",
    "    new_vector = []\n",
    "    biggest = 0\n",
    "    for i in range(0, n):\n",
    "        base_vector.append(random.random())\n",
    "        if base_vector[i] > biggest:\n",
    "            biggest = base_vector[i]\n",
    "    for i in range(0, n):\n",
    "        new_vector.append(base_vector[i])\n",
    "        if base_vector[i] == biggest:\n",
    "            new_vector[i] = 0\n",
    "    print(f\"Початковий вектор {base_vector} \\nЗмінений вектор {new_vector}\")\n",
    "    end = time.time()\n",
    "    print(f\"It took {end - start} seconds\")\n",
    "\n",
    "\n",
    "task_20()\n"
   ]
  },
  {
   "cell_type": "code",
   "execution_count": 36,
   "id": "be359d24",
   "metadata": {},
   "outputs": [
    {
     "name": "stdout",
     "output_type": "stream",
     "text": [
      "Enter n: \n",
      "5\n",
      "Початковий вектор [0.40797207 0.33869694 0.80581879 0.0625032  0.47871612] \n",
      "Змінений вектор [0.40797207 0.33869694 0.         0.0625032  0.47871612]\n",
      "It took 0.00099945068359375 seconds\n"
     ]
    }
   ],
   "source": [
    "import time\n",
    "import numpy as np\n",
    "\n",
    "\n",
    "def task_20():\n",
    "    n = int(input(\"Enter n: \\n\"))\n",
    "    start = time.time()\n",
    "    base_vector = np.random.uniform(low=0.0, high=1.0, size=n)\n",
    "    new_vector = np.copy(base_vector)\n",
    "    new_vector[np.argmax(new_vector)] = 0\n",
    "    print(f\"Початковий вектор {base_vector} \\nЗмінений вектор {new_vector}\")\n",
    "    end = time.time()\n",
    "    print(f\"It took {end - start} seconds\")\n",
    "\n",
    "\n",
    "task_20()\n"
   ]
  },
  {
   "cell_type": "markdown",
   "id": "264a3902",
   "metadata": {},
   "source": [
    "Знов незначна різниця у швидкості, але рішення через numpy зручніше і зрозуміліше."
   ]
  },
  {
   "cell_type": "markdown",
   "id": "bb07c947",
   "metadata": {},
   "source": [
    "Висновки: в більшості випадків numpy має перевагу над ітеративними конструкціями як у швидкості так і у простоті виконання. Але він дає менш свободи(обмеженна кількисть елементів у масива у порівнянні з листом, неможливість зберігти змінні різних типів), тому краще вміти користуватись обома засобами."
   ]
  },
  {
   "cell_type": "markdown",
   "id": "a5b7872b",
   "metadata": {},
   "source": [
    "Розв’язати систему за допомогою формул Крамера і виконати перевірку за\n",
    "допомогою:\n",
    "a) матричного множення;\n",
    "b) оберненої матриці;\n",
    "c) функції numpy.linalg.solve().\n",
    "Порівняти всі рішення за допомогою функції numpy.allclose()\n"
   ]
  },
  {
   "cell_type": "markdown",
   "id": "d80d9581",
   "metadata": {},
   "source": [
    "$$\n",
    "\\left\\{\n",
    "    \\begin{array}\\\\\n",
    "        \\mbox 2X_1 - 6X_2 + 2X_3 + 2X_4 = 12\\\\\n",
    "        \\mbox 1X_1 - 3X_2 + 5X_3 + 7X_4 = 12\\\\\n",
    "        \\mbox 3X_1 - 5X_2 + 7X_3 + X_4 = 0\\\\\n",
    "        \\mbox 5X_1 - 7X_2 + X_3 + 3X_4 = 4\\\\\n",
    "    \\end{array}\n",
    "\\right.\n",
    "$$"
   ]
  },
  {
   "cell_type": "markdown",
   "id": "588859fb",
   "metadata": {},
   "source": [
    "$$\n",
    "\\Delta = \n",
    "\\begin{vmatrix}\n",
    "2 & -6 & 2 & 2\\\\\n",
    "1 & 3 & 5 & 7\\\\\n",
    "3 & 5 & 7 & 1\\\\\n",
    "5 & 7 & 1 & 3\\\\\n",
    "\\end{vmatrix} = -2048\n",
    "$$"
   ]
  },
  {
   "cell_type": "markdown",
   "id": "44b83407",
   "metadata": {},
   "source": [
    "$$\n",
    "\\Delta_1 = \n",
    "\\begin{vmatrix}\n",
    "12 & -6 & 2 & 2\\\\\n",
    "12 & 3 & 5 & 7\\\\\n",
    "0 & 5 & 7 & 1\\\\\n",
    "4 & 7 & 1 & 3\\\\\n",
    "\\end{vmatrix} = -2048\n",
    "$$"
   ]
  },
  {
   "cell_type": "markdown",
   "id": "858167dd",
   "metadata": {},
   "source": [
    "$$\n",
    "\\Delta_2 = \n",
    "\\begin{vmatrix}\n",
    "2 & 12 & 2 & 2\\\\\n",
    "1 & 12 & 5 & 7\\\\\n",
    "3 & 0 & 7 & 1\\\\\n",
    "5 & 4 & 1 & 3\\\\\n",
    "\\end{vmatrix} = 2048\n",
    "$$"
   ]
  },
  {
   "cell_type": "markdown",
   "id": "b553339c",
   "metadata": {},
   "source": [
    "$$\n",
    "\\Delta_3 = \n",
    "\\begin{vmatrix}\n",
    "2 & -6 & 12 & 2\\\\\n",
    "1 & 3 & 12 & 7\\\\\n",
    "3 & 5 & 0 & 1\\\\\n",
    "5 & 7 & 4 & 3\\\\\n",
    "\\end{vmatrix} = 0\n",
    "$$"
   ]
  },
  {
   "cell_type": "markdown",
   "id": "89d5a2d1",
   "metadata": {},
   "source": [
    "$$\n",
    "\\Delta_4 = \n",
    "\\begin{vmatrix}\n",
    "2 & -6 & 2 & 12\\\\\n",
    "1 & 3 & 5 & 12\\\\\n",
    "3 & 5 & 7 & 0\\\\\n",
    "5 & 7 & 1 & 4\\\\\n",
    "\\end{vmatrix} = -4096\n",
    "$$"
   ]
  },
  {
   "cell_type": "markdown",
   "id": "e7d59e23",
   "metadata": {},
   "source": [
    "$$\n",
    "X_1 = \\frac {\\Delta_1}{\\Delta} = \\frac {-2048}{-2048} = 1\n",
    "$$"
   ]
  },
  {
   "cell_type": "markdown",
   "id": "9a65bfc7",
   "metadata": {},
   "source": [
    "$$\n",
    "X_2 = \\frac {\\Delta_2}{\\Delta} = \\frac {2048}{-2048} = -1\n",
    "$$"
   ]
  },
  {
   "cell_type": "markdown",
   "id": "c8550cae",
   "metadata": {},
   "source": [
    "$$\n",
    "X_3 = \\frac {\\Delta_3}{\\Delta} = \\frac {0}{-2048} = 0\n",
    "$$"
   ]
  },
  {
   "cell_type": "markdown",
   "id": "5ee5831a",
   "metadata": {},
   "source": [
    "$$\n",
    "X_4 = \\frac {\\Delta_4}{\\Delta} = \\frac {-4096}{-2048} = 2\n",
    "$$"
   ]
  },
  {
   "cell_type": "markdown",
   "id": "a6f3cb0b",
   "metadata": {},
   "source": [
    "Перевірка матричним множенням:"
   ]
  },
  {
   "cell_type": "code",
   "execution_count": 8,
   "id": "545ca230",
   "metadata": {},
   "outputs": [
    {
     "name": "stdout",
     "output_type": "stream",
     "text": [
      "X1 = 1\n",
      "X2 = -1\n",
      "X3 = 0\n",
      "X4 = 2\n"
     ]
    }
   ],
   "source": [
    "import numpy as np\n",
    "import fractions as fr\n",
    "\n",
    "\n",
    "def matrix_minor(arr, i, j):\n",
    "    return np.delete(np.delete(arr, i, axis=0), j, axis=1)\n",
    "\n",
    "\n",
    "def det_mat(m1):\n",
    "    if len(m1) != len(m1[0]):\n",
    "        return \"Determinant can only be found in square matrix.\"\n",
    "    elif len(m1) == 2:\n",
    "        return m1[0][0] * m1[1][1] - m1[0][1] * m1[1][0]\n",
    "    elif len(m1) == 3:\n",
    "        a = m1[0][0] * (m1[1][1] * m1[2][2] - m1[2][1] * m1[1][2])\n",
    "        b = m1[0][1] * (m1[1][0] * m1[2][2] - m1[2][0] * m1[1][2])\n",
    "        c = m1[0][2] * (m1[1][0] * m1[2][1] - m1[2][0] * m1[1][1])\n",
    "        return a - b + c\n",
    "    elif len(m1) == 4:\n",
    "        a1 = m1[0][0] * (m1[1][1] * (m1[2][2] * m1[3][3] - m1[3][2] * m1[2][3]) - m1[1][2] * (\n",
    "                m1[2][1] * m1[3][3] - m1[3][1] * m1[2][3]) + m1[1][3] * (m1[2][1] * m1[3][2] - m1[3][1] * m1[2][2]))\n",
    "        a2 = m1[0][1] * (m1[1][0] * (m1[2][2] * m1[3][3] - m1[3][2] * m1[2][3]) - m1[1][2] * (\n",
    "                m1[2][0] * m1[3][3] - m1[3][0] * m1[2][3]) + m1[1][3] * (m1[2][0] * m1[3][2] - m1[3][0] * m1[2][2]))\n",
    "        a3 = m1[0][2] * (m1[1][0] * (m1[2][1] * m1[3][3] - m1[3][1] * m1[2][3]) - m1[1][1] * (\n",
    "                m1[2][0] * m1[3][3] - m1[3][0] * m1[2][3]) + m1[1][3] * (m1[2][0] * m1[3][1] - m1[3][0] * m1[2][1]))\n",
    "        a4 = m1[0][3] * (m1[1][0] * (m1[2][1] * m1[3][2] - m1[3][1] * m1[2][2]) - m1[1][1] * (\n",
    "                m1[2][0] * m1[3][2] - m1[3][0] * m1[2][2]) + m1[1][2] * (m1[2][0] * m1[3][1] - m1[3][0] * m1[2][1]))\n",
    "        return a1 - a2 + a3 - a4\n",
    "\n",
    "\n",
    "A = [[2, -6, 2, 2], [1, 3, 5, 7], [3, 5, 7, 1], [5, 7, 1, 3]]\n",
    "B = [[12], [12], [0], [4]]\n",
    "C = np.copy(A)\n",
    "det_A = det_mat(A)  # A-matrix determinant. It is non-zero that means inverse of a matrix exists.\n",
    "for i in range(0, len(A)):\n",
    "    for n in range(0, len(A[0])):\n",
    "        C[i][n] = det_mat(matrix_minor(A, i, n)) * ((-1) ** (i + n))\n",
    "C = C.transpose()  # Transposing the matrix of minor determinants\n",
    "reverse = []\n",
    "for i in range(0, len(A)):  # Inverse of transposed matrix\n",
    "    for n in range(0, len(A[0])):\n",
    "        reverse.append(fr.Fraction(numerator=C[i][n], denominator=det_A))\n",
    "reverse = np.reshape(reverse, (len(A), len(A[0])))\n",
    "final = np.matmul(reverse, B)\n",
    "for i in range(0, len(final)):\n",
    "    print(f'X{i+1} = {int(final[i])}')\n"
   ]
  },
  {
   "cell_type": "markdown",
   "id": "de3458c5",
   "metadata": {},
   "source": [
    "Перевірка за допомогою функції оберненої матриці в numpy"
   ]
  },
  {
   "cell_type": "code",
   "execution_count": 10,
   "id": "3d381972",
   "metadata": {},
   "outputs": [
    {
     "name": "stdout",
     "output_type": "stream",
     "text": [
      "X1 = 1\n",
      "X2 = -1\n",
      "X3 = 0\n",
      "X4 = 2\n"
     ]
    }
   ],
   "source": [
    "import numpy as np\n",
    "\n",
    "\n",
    "A = [[2, -6, 2, 2], [1, 3, 5, 7], [3, 5, 7, 1], [5, 7, 1, 3]]\n",
    "B = [[12], [12], [0], [4]]\n",
    "reverse = np.linalg.inv(A)\n",
    "final = np.matmul(reverse, B)\n",
    "for i in range(0, len(final)):\n",
    "    print(f'X{i+1} = {int(final[i])}')\n",
    "\n"
   ]
  },
  {
   "cell_type": "markdown",
   "id": "97920ccb",
   "metadata": {},
   "source": [
    "Перевірка за допомогою numpy.linalg.solve()"
   ]
  },
  {
   "cell_type": "code",
   "execution_count": 11,
   "id": "3ed4a874",
   "metadata": {},
   "outputs": [
    {
     "name": "stdout",
     "output_type": "stream",
     "text": [
      "X1 = 1\n",
      "X2 = -1\n",
      "X3 = 0\n",
      "X4 = 2\n"
     ]
    }
   ],
   "source": [
    "import numpy as np\n",
    "\n",
    "\n",
    "A = [[2, -6, 2, 2], [1, 3, 5, 7], [3, 5, 7, 1], [5, 7, 1, 3]]\n",
    "B = [[12], [12], [0], [4]]\n",
    "final = np.linalg.solve(A, B)\n",
    "for i in range(0, len(final)):\n",
    "    print(f'X{i+1} = {int(final[i])}')\n",
    "\n"
   ]
  },
  {
   "cell_type": "markdown",
   "id": "a7a2c761",
   "metadata": {},
   "source": [
    "Порівняння відповідей"
   ]
  },
  {
   "cell_type": "code",
   "execution_count": 14,
   "id": "588ab138",
   "metadata": {},
   "outputs": [
    {
     "name": "stdout",
     "output_type": "stream",
     "text": [
      "True\n"
     ]
    }
   ],
   "source": [
    "import numpy as np\n",
    "import fractions as fr\n",
    "\n",
    "\n",
    "def matrix_minor(arr, i, j):\n",
    "    return np.delete(np.delete(arr, i, axis=0), j, axis=1)\n",
    "\n",
    "\n",
    "def det_matrix(m1):\n",
    "    if len(m1) != len(m1[0]):\n",
    "        return \"Determinant can only be found in square matrix.\"\n",
    "    elif len(m1) == 2:\n",
    "        return m1[0][0] * m1[1][1] - m1[0][1] * m1[1][0]\n",
    "    elif len(m1) == 3:\n",
    "        a = m1[0][0] * (m1[1][1] * m1[2][2] - m1[2][1] * m1[1][2])\n",
    "        b = m1[0][1] * (m1[1][0] * m1[2][2] - m1[2][0] * m1[1][2])\n",
    "        c = m1[0][2] * (m1[1][0] * m1[2][1] - m1[2][0] * m1[1][1])\n",
    "        return a - b + c\n",
    "    elif len(m1) == 4:\n",
    "        a1 = m1[0][0] * (m1[1][1] * (m1[2][2] * m1[3][3] - m1[3][2] * m1[2][3]) - m1[1][2] * (\n",
    "                m1[2][1] * m1[3][3] - m1[3][1] * m1[2][3]) + m1[1][3] * (m1[2][1] * m1[3][2] - m1[3][1] * m1[2][2]))\n",
    "        a2 = m1[0][1] * (m1[1][0] * (m1[2][2] * m1[3][3] - m1[3][2] * m1[2][3]) - m1[1][2] * (\n",
    "                m1[2][0] * m1[3][3] - m1[3][0] * m1[2][3]) + m1[1][3] * (m1[2][0] * m1[3][2] - m1[3][0] * m1[2][2]))\n",
    "        a3 = m1[0][2] * (m1[1][0] * (m1[2][1] * m1[3][3] - m1[3][1] * m1[2][3]) - m1[1][1] * (\n",
    "                m1[2][0] * m1[3][3] - m1[3][0] * m1[2][3]) + m1[1][3] * (m1[2][0] * m1[3][1] - m1[3][0] * m1[2][1]))\n",
    "        a4 = m1[0][3] * (m1[1][0] * (m1[2][1] * m1[3][2] - m1[3][1] * m1[2][2]) - m1[1][1] * (\n",
    "                m1[2][0] * m1[3][2] - m1[3][0] * m1[2][2]) + m1[1][2] * (m1[2][0] * m1[3][1] - m1[3][0] * m1[2][1]))\n",
    "        return a1 - a2 + a3 - a4\n",
    "\n",
    "\n",
    "def variant_a():\n",
    "    A = [[2, -6, 2, 2], [1, 3, 5, 7], [3, 5, 7, 1], [5, 7, 1, 3]]\n",
    "    B = [[12], [12], [0], [4]]\n",
    "    C = np.copy(A)\n",
    "    det_A = det_matrix(A)  # A-matrix determinant. It is non-zero that means inverse of a matrix exists.\n",
    "    for i in range(0, len(A)):\n",
    "        for n in range(0, len(A[0])):\n",
    "            C[i][n] = det_matrix(matrix_minor(A, i, n)) * ((-1) ** (i + n))\n",
    "    C = C.transpose()  # Transposing the matrix of minor determinants\n",
    "    reverse = []\n",
    "    for i in range(0, len(A)):  # Inverse of transposed matrix\n",
    "        for n in range(0, len(A[0])):\n",
    "            reverse.append(fr.Fraction(numerator=C[i][n], denominator=det_A))\n",
    "    reverse = np.reshape(reverse, (len(A), len(A[0])))\n",
    "    final = np.matmul(reverse, B)\n",
    "    intfinal = np.zeros(len(final), dtype=int)\n",
    "    for i in range (0, len(final)):\n",
    "        intfinal[i] = int(final[i])\n",
    "    return intfinal\n",
    "\n",
    "\n",
    "def variant_b():\n",
    "    A = [[2, -6, 2, 2], [1, 3, 5, 7], [3, 5, 7, 1], [5, 7, 1, 3]]\n",
    "    B = [[12], [12], [0], [4]]\n",
    "    reverse = np.linalg.inv(A)\n",
    "    final = np.matmul(reverse, B)\n",
    "    intfinal = np.zeros(len(final), dtype=int)\n",
    "    for i in range(0, len(final)):\n",
    "        intfinal[i] = int(final[i])\n",
    "    return intfinal\n",
    "\n",
    "\n",
    "def variant_c():\n",
    "    A = [[2, -6, 2, 2], [1, 3, 5, 7], [3, 5, 7, 1], [5, 7, 1, 3]]\n",
    "    B = [[12], [12], [0], [4]]\n",
    "    final = np.linalg.solve(A, B)\n",
    "    intfinal = np.zeros(len(final), dtype=int)\n",
    "    for i in range(0, len(final)):\n",
    "        intfinal[i] = int(final[i])\n",
    "    return intfinal\n",
    "\n",
    "\n",
    "A = variant_a()\n",
    "B = variant_b()\n",
    "C = variant_c()\n",
    "print(np.allclose(A, B) and np.allclose(B, C))\n",
    "#We can't use allclose for 3 values so we use basic logic instead\n",
    "#if A = B and B = C that means A = B = C. "
   ]
  },
  {
   "cell_type": "markdown",
   "id": "e704d704",
   "metadata": {},
   "source": [
    "Всі відповіді співпали."
   ]
  },
  {
   "cell_type": "markdown",
   "id": "0a966d19",
   "metadata": {},
   "source": [
    "3. Обчислити значення матричного виразу"
   ]
  },
  {
   "cell_type": "markdown",
   "id": "6cad9bf5",
   "metadata": {},
   "source": [
    "Ітеративними конструкціями"
   ]
  },
  {
   "cell_type": "code",
   "execution_count": 14,
   "id": "8bee5a73",
   "metadata": {},
   "outputs": [
    {
     "name": "stdout",
     "output_type": "stream",
     "text": [
      "[[ 6492 -2694  3339]\n",
      " [ 1443  -696   864]\n",
      " [ 6345 -2565  2565]]\n",
      "It took 0.0006279945373535156 seconds\n"
     ]
    }
   ],
   "source": [
    "import numpy as np\n",
    "import time\n",
    "\n",
    "\n",
    "def matrix_mul(m1, m2):\n",
    "    m3 = np.zeros([len(m1), len(m1[0])], dtype=int)\n",
    "    if len(m1) != len(m2) and len(m1) != len(m2):\n",
    "        return \"You can multiply only same sized matrices.\"\n",
    "    for i in range(len(m1)):\n",
    "        for n in range(len(m1[0])):\n",
    "            for m in range(len(m1)):\n",
    "                m3[i][n] += m1[i][m]*m2[m][n]\n",
    "    return m3\n",
    "\n",
    "\n",
    "def matrix_sum(m1, m2):\n",
    "    m3 = np.copy(m1)\n",
    "    if len(m1) != len(m2) and len(m1) != len(m2):\n",
    "        return \"You can add only same sized matrices.\"\n",
    "    for i in range(len(m1)):\n",
    "        for n in range(len(m1[0])):\n",
    "            m3[i][n] += m2[i][n]\n",
    "    return m3\n",
    "\n",
    "\n",
    "start = time.time()\n",
    "A = np.array([[2, 1, 3], [1, -2, 0], [4, -3, 0]])\n",
    "B = np.array([[22, -14, 3], [6, -7, 0], [11, 3, 15]])\n",
    "AplusB = matrix_sum(A, B)\n",
    "AonB = matrix_mul(A, B)\n",
    "Aminus = np.copy(A)\n",
    "for i in range(len(Aminus)):\n",
    "    for n in range(len(Aminus[0])):\n",
    "        Aminus[i][n] *= -2\n",
    "result = matrix_sum(AonB, Aminus)\n",
    "result = matrix_mul(AplusB, result)\n",
    "for i in range(len(result)):\n",
    "    for n in range(len(result[0])):\n",
    "        result[i][n] *= 3\n",
    "print(result)\n",
    "end = time.time()\n",
    "print(f\"It took {end - start} seconds\")\n"
   ]
  },
  {
   "cell_type": "markdown",
   "id": "2c7f7187",
   "metadata": {},
   "source": [
    "За допомогою функцій numpy"
   ]
  },
  {
   "cell_type": "code",
   "execution_count": 16,
   "id": "41ba7784",
   "metadata": {},
   "outputs": [
    {
     "name": "stdout",
     "output_type": "stream",
     "text": [
      "[[ 6492 -2694  3339]\n",
      " [ 1443  -696   864]\n",
      " [ 6345 -2565  2565]]\n",
      "It took 0.0 seconds\n"
     ]
    }
   ],
   "source": [
    "import numpy as np\n",
    "import time\n",
    "\n",
    "start = time.time()\n",
    "A = np.array([[2, 1, 3], [1, -2, 0], [4, -3, 0]])\n",
    "B = np.array([[22, -14, 3], [6, -7, 0], [11, 3, 15]])\n",
    "AplusB = np.add(A, B)\n",
    "AonB = np.matmul(A, B)\n",
    "Aminus = A*-2\n",
    "result = np.add(AonB, Aminus)\n",
    "result = np.matmul(AplusB, result)\n",
    "result *= 3\n",
    "print(result)\n",
    "end = time.time()\n",
    "print(f\"It took {end - start} seconds\")\n"
   ]
  },
  {
   "cell_type": "markdown",
   "id": "4463e89c",
   "metadata": {},
   "source": [
    "Різниця незначна, але варіант через функції numpy в середньому швидше."
   ]
  },
  {
   "cell_type": "markdown",
   "id": "d84fb314",
   "metadata": {},
   "source": [
    "Порівняння результатів"
   ]
  },
  {
   "cell_type": "code",
   "execution_count": 21,
   "id": "3ce2f80c",
   "metadata": {},
   "outputs": [
    {
     "name": "stdout",
     "output_type": "stream",
     "text": [
      "True\n"
     ]
    }
   ],
   "source": [
    "import numpy as np\n",
    "\n",
    "\n",
    "def matrix_mul(m1, m2):\n",
    "    m3 = np.zeros([len(m1), len(m1[0])], dtype=int)\n",
    "    if len(m1) != len(m2) and len(m1) != len(m2):\n",
    "        return \"You can multiply only same sized matrices.\"\n",
    "    for i in range(len(m1)):\n",
    "        for n in range(len(m1[0])):\n",
    "            for m in range(len(m1)):\n",
    "                m3[i][n] += m1[i][m] * m2[m][n]\n",
    "    return m3\n",
    "\n",
    "\n",
    "def matrix_sum(m1, m2):\n",
    "    m3 = np.copy(m1)\n",
    "    if len(m1) != len(m2) and len(m1) != len(m2):\n",
    "        return \"You can add only same sized matrices.\"\n",
    "    for i in range(len(m1)):\n",
    "        for n in range(len(m1[0])):\n",
    "            m3[i][n] += m2[i][n]\n",
    "    return m3\n",
    "\n",
    "\n",
    "def variant_1():\n",
    "    A = np.array([[2, 1, 3], [1, -2, 0], [4, -3, 0]])\n",
    "    B = np.array([[22, -14, 3], [6, -7, 0], [11, 3, 15]])\n",
    "    AplusB = matrix_sum(A, B)\n",
    "    AonB = matrix_mul(A, B)\n",
    "    Aminus = np.copy(A)\n",
    "    for i in range(len(Aminus)):\n",
    "        for n in range(len(Aminus[0])):\n",
    "            Aminus[i][n] *= -2\n",
    "    result = matrix_sum(AonB, Aminus)\n",
    "    result = matrix_mul(AplusB, result)\n",
    "    for i in range(len(result)):\n",
    "        for n in range(len(result[0])):\n",
    "            result[i][n] *= 3\n",
    "    return result\n",
    "\n",
    "\n",
    "def variant_2():\n",
    "    A = np.array([[2, 1, 3], [1, -2, 0], [4, -3, 0]])\n",
    "    B = np.array([[22, -14, 3], [6, -7, 0], [11, 3, 15]])\n",
    "    AplusB = np.add(A, B)\n",
    "    AonB = np.matmul(A, B)\n",
    "    Aminus = A * -2\n",
    "    result = np.add(AonB, Aminus)\n",
    "    result = np.matmul(AplusB, result)\n",
    "    result *= 3\n",
    "    return result\n",
    "\n",
    "\n",
    "A = variant_1()\n",
    "B = variant_2()\n",
    "print(np.allclose(A, B))\n"
   ]
  },
  {
   "cell_type": "markdown",
   "id": "6f83b81c",
   "metadata": {},
   "source": [
    "Відповіді співпали"
   ]
  },
  {
   "cell_type": "code",
   "execution_count": null,
   "id": "4e056eef",
   "metadata": {},
   "outputs": [],
   "source": []
  }
 ],
 "metadata": {
  "kernelspec": {
   "display_name": "Python 3 (ipykernel)",
   "language": "python",
   "name": "python3"
  },
  "language_info": {
   "codemirror_mode": {
    "name": "ipython",
    "version": 3
   },
   "file_extension": ".py",
   "mimetype": "text/x-python",
   "name": "python",
   "nbconvert_exporter": "python",
   "pygments_lexer": "ipython3",
   "version": "3.11.1"
  }
 },
 "nbformat": 4,
 "nbformat_minor": 5
}
